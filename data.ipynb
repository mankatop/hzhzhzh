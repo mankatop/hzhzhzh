{
  "nbformat": 4,
  "nbformat_minor": 0,
  "metadata": {
    "colab": {
      "name": "Untitled3.ipynb",
      "provenance": [],
      "mount_file_id": "1JH1aK0omTC2uyoHCRDzFcINs3ttO4qrJ",
      "authorship_tag": "ABX9TyM5A2ouslknklpVYnQxU/+0",
      "include_colab_link": true
    },
    "kernelspec": {
      "name": "python3",
      "display_name": "Python 3"
    },
    "language_info": {
      "name": "python"
    },
    "accelerator": "GPU",
    "gpuClass": "standard"
  },
  "cells": [
    {
      "cell_type": "markdown",
      "metadata": {
        "id": "view-in-github",
        "colab_type": "text"
      },
      "source": [
        "<a href=\"https://colab.research.google.com/github/mankatop/hzhzhzh/blob/main/data.ipynb\" target=\"_parent\"><img src=\"https://colab.research.google.com/assets/colab-badge.svg\" alt=\"Open In Colab\"/></a>"
      ]
    },
    {
      "cell_type": "code",
      "source": [
        "from tensorflow.keras.models import Model\n",
        "from tensorflow.keras.layers import Input, Conv2DTranspose, concatenate, Activation, MaxPooling2D, Conv2D, BatchNormalization, UpSampling2D, MaxPool2D, Concatenate, Dropout\n",
        "from tensorflow.keras import backend as K\n",
        "from tensorflow.keras.optimizers import Adam\n",
        "from tensorflow.keras import utils\n",
        "import matplotlib.pyplot as plt\n",
        "from tensorflow.keras.preprocessing import image\n",
        "import numpy as np\n",
        "from sklearn.model_selection import train_test_split\n",
        "import time\n",
        "import random\n",
        "import os\n",
        "from PIL import Image\n",
        "import cv2\n",
        "import pandas as pd\n",
        "import math"
      ],
      "metadata": {
        "id": "x7bvtuzQ7Keu"
      },
      "execution_count": 1,
      "outputs": []
    },
    {
      "cell_type": "code",
      "source": [
        "def MAE(N, gt_i_j, pred_i_j):\n",
        "  MAE = sum(math.abs(gt_i_j - pred_i_j) / N)"
      ],
      "metadata": {
        "id": "pis_l1KX7KhY"
      },
      "execution_count": 2,
      "outputs": []
    },
    {
      "cell_type": "code",
      "execution_count": 3,
      "metadata": {
        "id": "hh6ajMlD66ef"
      },
      "outputs": [],
      "source": [
        "path = '/content/drive/MyDrive/train_set1/train_dataset_1'\n",
        "goods = {}\n",
        "images = []\n",
        "input_shape = (416, 416)"
      ]
    },
    {
      "cell_type": "code",
      "source": [
        ""
      ],
      "metadata": {
        "id": "PnxdFgGXa9-c"
      },
      "execution_count": null,
      "outputs": []
    },
    {
      "cell_type": "code",
      "source": [
        "for filename in sorted(os.listdir(path)):\n",
        "  if filename not in goods:\n",
        "    for f in filename:\n",
        "      img = cv2.imread(os.path.join(path + '/' + filename + '/' + f + '.jpg'))\n",
        "      img = np.array(img)\n",
        "      images.append(img)\n",
        "    goods[filename] = images\n",
        "    images = []\n",
        "  else: continue\n"
      ],
      "metadata": {
        "id": "55IG-jp-7Kbv"
      },
      "execution_count": 5,
      "outputs": []
    },
    {
      "cell_type": "code",
      "source": [
        "print(goods['1000'])"
      ],
      "metadata": {
        "id": "wL94KaXH7Kj5"
      },
      "execution_count": null,
      "outputs": []
    },
    {
      "cell_type": "code",
      "source": [
        ""
      ],
      "metadata": {
        "id": "pLfLcdQn7Kmh"
      },
      "execution_count": null,
      "outputs": []
    },
    {
      "cell_type": "code",
      "source": [
        ""
      ],
      "metadata": {
        "id": "WO-XvIbr7KpN"
      },
      "execution_count": null,
      "outputs": []
    },
    {
      "cell_type": "code",
      "source": [
        ""
      ],
      "metadata": {
        "id": "x0ELz9R77Krq"
      },
      "execution_count": null,
      "outputs": []
    },
    {
      "cell_type": "code",
      "source": [
        ""
      ],
      "metadata": {
        "id": "JYsppjyL7KuI"
      },
      "execution_count": null,
      "outputs": []
    },
    {
      "cell_type": "code",
      "source": [
        ""
      ],
      "metadata": {
        "id": "iCZHbr3BKANd"
      },
      "execution_count": null,
      "outputs": []
    }
  ]
}